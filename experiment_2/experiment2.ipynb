{
 "cells": [
  {
   "cell_type": "markdown",
   "metadata": {},
   "source": [
    "# Experiment 2\n",
    "\n",
    "The goal of this experiment is to test whether a model can recognize a legal action given a state. \n",
    "\n",
    "Input:  A state s and an action $x_t$. 50% of the actions are legal and 50% of them are not\n",
    "\n",
    "Output: The model's judgment on whether the action is legal or not. "
   ]
  },
  {
   "cell_type": "code",
   "execution_count": 21,
   "metadata": {},
   "outputs": [
    {
     "name": "stdout",
     "output_type": "stream",
     "text": [
      "Requirement already satisfied: openai in /Users/jeanbilla/Desktop/LLM_internal_representation/.venv/lib/python3.9/site-packages (1.59.7)\n",
      "Requirement already satisfied: anyio<5,>=3.5.0 in /Users/jeanbilla/Desktop/LLM_internal_representation/.venv/lib/python3.9/site-packages (from openai) (4.8.0)\n",
      "Requirement already satisfied: distro<2,>=1.7.0 in /Users/jeanbilla/Desktop/LLM_internal_representation/.venv/lib/python3.9/site-packages (from openai) (1.9.0)\n",
      "Requirement already satisfied: httpx<1,>=0.23.0 in /Users/jeanbilla/Desktop/LLM_internal_representation/.venv/lib/python3.9/site-packages (from openai) (0.28.1)\n",
      "Requirement already satisfied: jiter<1,>=0.4.0 in /Users/jeanbilla/Desktop/LLM_internal_representation/.venv/lib/python3.9/site-packages (from openai) (0.8.2)\n",
      "Requirement already satisfied: pydantic<3,>=1.9.0 in /Users/jeanbilla/Desktop/LLM_internal_representation/.venv/lib/python3.9/site-packages (from openai) (2.10.5)\n",
      "Requirement already satisfied: sniffio in /Users/jeanbilla/Desktop/LLM_internal_representation/.venv/lib/python3.9/site-packages (from openai) (1.3.1)\n",
      "Requirement already satisfied: tqdm>4 in /Users/jeanbilla/Desktop/LLM_internal_representation/.venv/lib/python3.9/site-packages (from openai) (4.67.1)\n",
      "Requirement already satisfied: typing-extensions<5,>=4.11 in /Users/jeanbilla/Desktop/LLM_internal_representation/.venv/lib/python3.9/site-packages (from openai) (4.12.2)\n",
      "Requirement already satisfied: exceptiongroup>=1.0.2 in /Users/jeanbilla/Desktop/LLM_internal_representation/.venv/lib/python3.9/site-packages (from anyio<5,>=3.5.0->openai) (1.2.2)\n",
      "Requirement already satisfied: idna>=2.8 in /Users/jeanbilla/Desktop/LLM_internal_representation/.venv/lib/python3.9/site-packages (from anyio<5,>=3.5.0->openai) (3.10)\n",
      "Requirement already satisfied: certifi in /Users/jeanbilla/Desktop/LLM_internal_representation/.venv/lib/python3.9/site-packages (from httpx<1,>=0.23.0->openai) (2024.12.14)\n",
      "Requirement already satisfied: httpcore==1.* in /Users/jeanbilla/Desktop/LLM_internal_representation/.venv/lib/python3.9/site-packages (from httpx<1,>=0.23.0->openai) (1.0.7)\n",
      "Requirement already satisfied: h11<0.15,>=0.13 in /Users/jeanbilla/Desktop/LLM_internal_representation/.venv/lib/python3.9/site-packages (from httpcore==1.*->httpx<1,>=0.23.0->openai) (0.14.0)\n",
      "Requirement already satisfied: annotated-types>=0.6.0 in /Users/jeanbilla/Desktop/LLM_internal_representation/.venv/lib/python3.9/site-packages (from pydantic<3,>=1.9.0->openai) (0.7.0)\n",
      "Requirement already satisfied: pydantic-core==2.27.2 in /Users/jeanbilla/Desktop/LLM_internal_representation/.venv/lib/python3.9/site-packages (from pydantic<3,>=1.9.0->openai) (2.27.2)\n",
      "Requirement already satisfied: pandas in /Users/jeanbilla/Desktop/LLM_internal_representation/.venv/lib/python3.9/site-packages (2.2.3)\n",
      "Requirement already satisfied: numpy>=1.22.4 in /Users/jeanbilla/Desktop/LLM_internal_representation/.venv/lib/python3.9/site-packages (from pandas) (2.0.2)\n",
      "Requirement already satisfied: python-dateutil>=2.8.2 in /Users/jeanbilla/Desktop/LLM_internal_representation/.venv/lib/python3.9/site-packages (from pandas) (2.9.0.post0)\n",
      "Requirement already satisfied: pytz>=2020.1 in /Users/jeanbilla/Desktop/LLM_internal_representation/.venv/lib/python3.9/site-packages (from pandas) (2024.2)\n",
      "Requirement already satisfied: tzdata>=2022.7 in /Users/jeanbilla/Desktop/LLM_internal_representation/.venv/lib/python3.9/site-packages (from pandas) (2024.2)\n",
      "Requirement already satisfied: six>=1.5 in /Users/jeanbilla/Desktop/LLM_internal_representation/.venv/lib/python3.9/site-packages (from python-dateutil>=2.8.2->pandas) (1.17.0)\n"
     ]
    }
   ],
   "source": [
    "!pip install openai\n",
    "! pip install pandas"
   ]
  },
  {
   "cell_type": "code",
   "execution_count": 22,
   "metadata": {},
   "outputs": [],
   "source": [
    "from openai import OpenAI\n",
    "from pydantic import BaseModel\n",
    "import json\n",
    "import pandas as pd\n",
    "from tqdm import tqdm\n",
    "\n",
    "import os\n",
    "from dotenv import load_dotenv\n",
    "\n",
    "# Load environment variables from .env file\n",
    "load_dotenv()\n",
    "\n",
    "client = OpenAI(api_key=os.getenv('OPENAI_API_KEY'))"
   ]
  },
  {
   "cell_type": "code",
   "execution_count": 27,
   "metadata": {},
   "outputs": [],
   "source": [
    "#utils\n",
    "import re\n",
    "import random\n",
    "\n",
    "def parse_expression(expression):\n",
    "    if expression[0] == \"(\":\n",
    "        #remove the parentheses\n",
    "        expression = expression[1:-1]\n",
    "    parts = expression.split()\n",
    "    predicate = parts[0]\n",
    "    args = parts[1:] if len(parts) > 1 else []\n",
    "    return predicate, args\n",
    "\n",
    "def parse_state(state):\n",
    "    pattern = r\"\\((.*?)\\)\"\n",
    "    matches = re.findall(pattern, state)\n",
    "    expressions = []\n",
    "    for match in matches:\n",
    "        predicate, args = parse_expression(match)\n",
    "        expressions.append((predicate, args))\n",
    "    return expressions\n",
    "\n",
    "\n",
    "\n",
    "# Possible actions\n",
    "# - (pick-up b1): Pick up block b1. --> For this, a block needs to be clear and the arm needs to be empty \n",
    "# - (put-down b1): Put down block b1. --> For this, a block needs to be in the arm \n",
    "# - (stack b1 b2): Stack block b1 on top of block b2. --> For this, a block needs to be in the arm and the arm needs to be empty\n",
    "# - (unstack b1 b2): Unstack block b1 from block b2. --> For this, a block needs to be clear and the arm needs to be empty\n",
    "\n",
    "def is_block_clear(state, block):\n",
    "    clear = False\n",
    "    for expression in state:\n",
    "        predicate, args = expression\n",
    "        if predicate == \"clear\" and block in args:\n",
    "            # the block has been marked as clear, so return true\n",
    "            return True \n",
    "        elif predicate == \"on\" and block == args[0]:\n",
    "            clear = True\n",
    "        elif predicate == \"on\" and block == args[1]:\n",
    "            #Another block is currently on top of this block, immediately return false\n",
    "            return False\n",
    "    return clear\n",
    "\n",
    "def is_arm_empty(state):\n",
    "    for expression in state:\n",
    "        predicate, args = expression\n",
    "        if predicate == \"arm-empty\":\n",
    "            return True\n",
    "    return False\n",
    "\n",
    "def is_block_on_other(state, block, other_block):\n",
    "    for expression in state:\n",
    "        predicate, args = expression\n",
    "        if predicate == \"on\" and block == args[0] and other_block == args[1]:\n",
    "            return True\n",
    "    return False\n",
    "\n",
    "def is_block_in_arm(state, block):\n",
    "    for expression in state:\n",
    "        predicate, args = expression\n",
    "        if predicate == \"holding\" and block in args:\n",
    "            return True\n",
    "    return False\n",
    "\n",
    "def is_action_legal(state, action):\n",
    "    \"\"\"Given a state and an action, return whether the action is legal or not.\"\"\"\n",
    "    \n",
    "    state = parse_state(state)\n",
    "    #Get the blocks in the action\n",
    "    action_predicate, action_blocks = parse_expression(action)\n",
    "    if action_predicate == \"pick-up\":\n",
    "        block = action_blocks[0]\n",
    "        #check that the arm is empty and the block is clear\n",
    "        arm_empty = is_arm_empty(state)\n",
    "        block_clear = is_block_clear(state, block)\n",
    "        if arm_empty and block_clear:\n",
    "            return True\n",
    "        else:\n",
    "            return False\n",
    "    elif action_predicate == \"put-down\":\n",
    "        block = action_blocks[0]\n",
    "        #check that the arm is empty and the block is in the arm\n",
    "        block_in_arm = is_block_in_arm(state, block)\n",
    "        if block_in_arm:\n",
    "            return True\n",
    "        else:\n",
    "            return False\n",
    "    elif action_predicate == \"stack\":\n",
    "        block = action_blocks[0]\n",
    "        other_block = action_blocks[1]\n",
    "        block_in_arm = is_block_in_arm(state, block)\n",
    "        other_block_clear = is_block_clear(state, other_block)\n",
    "        if block_in_arm and other_block_clear:\n",
    "            return True\n",
    "        else:\n",
    "            return False \n",
    "    elif action_predicate == \"unstack\":\n",
    "        block = action_blocks[0]\n",
    "        other_block = action_blocks[1]\n",
    "        block_clear = is_block_clear(state, block)\n",
    "        block_on_other = is_block_on_other(state, block, other_block)\n",
    "        arm_empty = is_arm_empty(state)\n",
    "        if block_clear and block_on_other and arm_empty:\n",
    "            return True\n",
    "        else:\n",
    "            return False\n",
    "\n",
    "def generate_illegal_action(state):\n",
    "    \"\"\"Returns a legal action given a state\"\"\"\n",
    "    parsed_state = parse_state(state)\n",
    "    #Get the blocks in the state\n",
    "    blocks = []\n",
    "    for expression in parsed_state:\n",
    "        predicate, args = expression\n",
    "        blocks.extend(args)\n",
    "    blocks = set(blocks)\n",
    "    #Randomly select an action\n",
    "    action = random.choice([\"pick-up\", \"put-down\", \"stack\", \"unstack\"])\n",
    "    if action == \"pick-up\" or action == \"put-down\":\n",
    "        block = random.choice(list(blocks))\n",
    "        action = f\"({action} {block})\"\n",
    "        if not is_action_legal(state, action):\n",
    "            return state\n",
    "        else:\n",
    "            return generate_illegal_action(state)\n",
    "    elif action == \"stack\" or action == \"unstack\":\n",
    "        block = random.choice(list(blocks))\n",
    "        other_block = random.choice(list(blocks - {block}))\n",
    "        action = f\"({action} {block} {other_block})\"\n",
    "        if not is_action_legal(state, action):\n",
    "            return state\n",
    "        else:\n",
    "            return generate_illegal_action(state)\n"
   ]
  },
  {
   "cell_type": "markdown",
   "metadata": {},
   "source": [
    "Dataset curration: We keepm 1000 data points (state, action). 500 are valid, 500 are not"
   ]
  },
  {
   "cell_type": "code",
   "execution_count": 28,
   "metadata": {},
   "outputs": [
    {
     "name": "stdout",
     "output_type": "stream",
     "text": [
      "The dataset has  1002 pairs of action and state\n"
     ]
    }
   ],
   "source": [
    "import random\n",
    "import json\n",
    "with open(\"../blockworld_dataset.json\", \"r\") as f:\n",
    "    full_dataset = json.load(f)\n",
    "\n",
    "experiment_dataset = []\n",
    "N = 500 \n",
    "#Get valid actions  \n",
    "seen = set()\n",
    "valid_data = []\n",
    "while len(valid_data) < N:\n",
    "    group = random.choice(full_dataset)\n",
    "    if group[\"goal\"] not in seen:\n",
    "        for i in range(len(group[\"actions\"])):\n",
    "            action = group[\"actions\"][i]\n",
    "            state = group[\"states\"][i]\n",
    "            valid_data.append((state, action, \"legal\"))\n",
    "        seen.add(group[\"goal\"])\n",
    "\n",
    "experiment_dataset.extend(valid_data)\n",
    "#Get invalid actions\n",
    "invalid_data = []\n",
    "while len(invalid_data) < N:\n",
    "    group = random.choice(full_dataset)\n",
    "    if group[\"goal\"] not in seen:\n",
    "        for i in range(len(group[\"actions\"])):\n",
    "            action = generate_illegal_action(group[\"states\"][i])\n",
    "            invalid_data.append((group[\"states\"][i], action, \"illegal\"))\n",
    "        seen.add(group[\"goal\"])\n",
    "experiment_dataset.extend(invalid_data)\n",
    "random.shuffle(experiment_dataset)\n",
    "with open(\"experiment2_dataset.json\", \"w\") as f:\n",
    "    json.dump(experiment_dataset, f)\n",
    "print(\"The dataset has \", len(experiment_dataset), \"pairs of action and state\")"
   ]
  },
  {
   "cell_type": "markdown",
   "metadata": {},
   "source": [
    "Experiment code:\n",
    "\n",
    "The goal of this experiment is to test whether a model can recognize a legal action given a state. \n",
    "\n",
    "Input:  A state s and an action $x_t$. 50% of the actions are legal and 50% of them are not\n",
    "\n",
    "Output: The model's judgment on whether the action is legal or not. "
   ]
  },
  {
   "cell_type": "code",
   "execution_count": 29,
   "metadata": {},
   "outputs": [],
   "source": [
    "prompt = \"\"\"\n",
    "You are a blockworld planner. You are given a state, and an action. You must determine if the action is feasible given the current state. If it is, you must return True. If it is not, you must return False, and explain your reasoning.\n",
    "The possible commands in the game are:\n",
    "- (pick-up b1): Pick up block b1.\n",
    "- (put-down b1): Put down block b1.\n",
    "- (stack b1 b2): Stack block b1 on top of block b2.\n",
    "- (unstack b1 b2): Unstack block b1 from block b2.\n",
    "Here are a few examples of states and actions:\n",
    "state: (on b2 b1) (arm-empty) (on b1 b3) (on-table b3) (clear b2); action: (unstack b2 b1). Return True. Explanation: The action is legal because the arm is empty, the block b2 is on b1, and the block b2 is clear.\n",
    "state: (on b1 b3) (holding b2) (clear b1) (on-table b3); action: (put-down b2). Return True. Explanation: The action is legal because the arm is holding b2.\n",
    "state: (on-table b2) (arm-empty) (on b1 b3) (clear b1) (on-table b3) (clear b2); action: (unstack b1 b3). Return True. Explanation: The action is legal because the arm is empty, the block b1 is on b3, and the block b1 is clear.\n",
    "state: (on-table b1) (on-table b2) (clear b2) (holding b3) (clear b1); action: (stack b1 b3). Return False. Explanation: The action is not legal because the arm is holding b3 and b1 is on the table, so cannot be stacking b1 on b3.\n",
    "state: (on-table b1) (on-table b2) (clear b2) (on b3 b1) (arm-empty); action: (pick-up b1). Return False. Explanation: The action is not legal because b3 is on b1, so b1 cannot be picked up.\n",
    "state: (on b2 b1) (arm-empty) (clear b3) (on-table b3) (on-table b1) (clear b2); action: (stack b2 b1). Return False. Explanation: The action is not legal because b2 is alreadyon b1, so b2 cannot be stacked on b1.\n",
    "\"\"\"\n",
    "\n",
    "class Response(BaseModel):\n",
    "    result: bool\n",
    "    explanation: str\n",
    "\n",
    "def call_model(state, action):\n",
    "    response = client.beta.chat.completions.parse(\n",
    "        model=\"gpt-4o\",\n",
    "        response_format= Response,\n",
    "        messages=[\n",
    "            {\"role\": \"system\", \"content\": prompt},\n",
    "            {\"role\": \"user\", \"content\": f\"state: {state}; action: {action}\"}\n",
    "        ],\n",
    "        temperature=0.0,\n",
    "        top_p=1,\n",
    "        frequency_penalty=0,\n",
    "        presence_penalty=0\n",
    "    )\n",
    "    return response.choices[0].message.parsed.result, response.choices[0].message.parsed.explanation\n"
   ]
  },
  {
   "cell_type": "markdown",
   "metadata": {},
   "source": [
    "Parse dataset to get pairs of states and actions"
   ]
  },
  {
   "cell_type": "code",
   "execution_count": 30,
   "metadata": {},
   "outputs": [
    {
     "name": "stderr",
     "output_type": "stream",
     "text": [
      "100%|██████████| 1002/1002 [35:08<00:00,  2.10s/it] \n"
     ]
    }
   ],
   "source": [
    "with open(\"experiment2_dataset.json\", \"r\") as f:\n",
    "    dataset = json.load(f)\n",
    "df = pd.DataFrame(columns=[\"state\", \"action\", \"result\", \"explanation\", \"correct\"])\n",
    "for datapoint in tqdm(dataset):\n",
    "    state, action, true = datapoint\n",
    "    result, explanation = call_model(state, action)\n",
    "    if true == \"legal\" and result:\n",
    "        correct = 1\n",
    "    elif true == \"illegal\" and not result:\n",
    "        correct = 1\n",
    "    else:\n",
    "        correct = 0\n",
    "    df.loc[len(df)] = {\"state\": state, \"action\": action, \"result\": result, \"explanation\": explanation, \"correct\": correct}\n",
    "\n",
    "df.to_csv(\"experiment2_results.csv\", index=False)\n"
   ]
  },
  {
   "cell_type": "code",
   "execution_count": 32,
   "metadata": {},
   "outputs": [
    {
     "name": "stdout",
     "output_type": "stream",
     "text": [
      "Accuracy: 0.9570858283433133\n"
     ]
    }
   ],
   "source": [
    "df.to_csv(\"experiment2_results.csv\", index=False)\n",
    "accuracy = df[\"correct\"].sum() / len(df)\n",
    "print(f\"Accuracy: {accuracy}\")"
   ]
  }
 ],
 "metadata": {
  "kernelspec": {
   "display_name": "Python 3",
   "language": "python",
   "name": "python3"
  },
  "language_info": {
   "codemirror_mode": {
    "name": "ipython",
    "version": 3
   },
   "file_extension": ".py",
   "mimetype": "text/x-python",
   "name": "python",
   "nbconvert_exporter": "python",
   "pygments_lexer": "ipython3",
   "version": "3.9.6"
  }
 },
 "nbformat": 4,
 "nbformat_minor": 2
}
